{
 "cells": [
  {
   "cell_type": "markdown",
   "metadata": {},
   "source": [
    "## Testing the API found by packet sniffing\n",
    "\n",
    "The ASUS router has no public API. I found out the required REST API calls using a packet sniffer on my phone while running the ASUS router app. \n",
    "\n",
    "To turn off the VPN client and effectively connect to DE use \n",
    "```\n",
    "    '{ \n",
    "     \"vpnc_proto\": \"disable\",\n",
    "     \"vpnc_pptp_options_x\": \"\",\n",
    "     \"vpn_clientx_eas\": \"\",\n",
    "     \"vpn_client_unit\": \"\",\n",
    "     \"vpnc_pppoe_username\": \"\",\n",
    "     \"vpnc_pppoe_passwd\": \"\",\n",
    "     \"vpnc_heartbeat_x\": \"\", \n",
    "     \"action_mode\": \"apply\" \n",
    "     }' \n",
    "```\n",
    "\n",
    "To turn on vpn client 4 which is pre-configured to connect to the UK use:\n",
    "\n",
    "```\n",
    "    '{ \n",
    "     \"vpnc_proto\": \"openvpn\",\n",
    "     \"vpnc_pptp_options_x\": \"auto\",\n",
    "     \"vpn_clientx_eas\": \"4,\",\n",
    "     \"vpn_client_unit\": \"4\",\n",
    "     \"vpn_client4_username\": \"my_user\",\"vpn_client4_password\": \"my_pass\", \n",
    "     \"action_mode\": \"apply\" \n",
    "     }'\n",
    "```\n",
    "\n",
    "After issuing the command, you have to apply it with:\n",
    "\n",
    "```\n",
    "    '{\n",
    "     \"action_mode\": \"apply\",\n",
    "     \"rc_service\": \"restart_vpncall;\"\n",
    "     }'\n",
    "```\n",
    "\n",
    "We can find the current status of the VPN by issueing the following command and checking the response\n",
    "\n",
    "```\n",
    "    \"hook=nvram_get(vpn_clientx_eas);')\"\n",
    "```\n",
    "\n",
    "If the response is not Null then the value returned is the currently connected VPN\n"
   ]
  },
  {
   "cell_type": "code",
   "execution_count": 1,
   "metadata": {},
   "outputs": [
    {
     "name": "stdout",
     "output_type": "stream",
     "text": [
      "eJEbSPn8SOooXL0hpWaJs4Hat6DS7G8\n"
     ]
    }
   ],
   "source": [
    "# First we have to get a token from the router to continue issuing other commands.\n",
    "\n",
    "import requests\n",
    "import base64\n",
    "\n",
    "asus_ip = \"192.168.1.1\"\n",
    "account =  \"user:pass\"\n",
    "\n",
    "string_bytes = account.encode('ascii')\n",
    "base64_bytes = base64.b64encode(string_bytes)\n",
    "login = base64_bytes.decode('ascii')\n",
    "\n",
    "url = 'http://{}/login.cgi'.format(asus_ip)\n",
    "payload = \"login_authorization=\" + login\n",
    "headers = {\n",
    "    'user-agent': \"asusrouter-Android-DUTUtil-1.0.0.245\"\n",
    "}\n",
    "r = requests.post(url=url, data=payload, headers=headers)\n",
    "token = r.json()['asus_token']\n",
    "print(token)"
   ]
  },
  {
   "cell_type": "code",
   "execution_count": 2,
   "metadata": {},
   "outputs": [
    {
     "name": "stdout",
     "output_type": "stream",
     "text": [
      "{\n",
      "\"uptime\":Fri, 01 Dec 2023 23:22:00 +0100(561 secs since boot)\n",
      "}\n",
      "\n"
     ]
    }
   ],
   "source": [
    "# Now we can use that token to find out other stuff. For example, here we find the total uptime. \n",
    "payload = \"hook=uptime();')\"\n",
    "headers = {\n",
    "    'user-Agent': \"asusrouter-Android-DUTUtil-1.0.0.245\",\n",
    "    'cookie': 'asus_token={}'.format(token),\n",
    "}\n",
    "try:\n",
    "    r = requests.post(url='http://{}/appGet.cgi'.format(asus_ip), data=payload, headers=headers)\n",
    "except:\n",
    "    print('Failed')\n",
    "print(r.text)"
   ]
  },
  {
   "cell_type": "code",
   "execution_count": 5,
   "metadata": {},
   "outputs": [
    {
     "name": "stdout",
     "output_type": "stream",
     "text": [
      "{ \"modify\": \"1\", \"run_service\": \"start_ctrl_led\" }\n",
      "\n"
     ]
    }
   ],
   "source": [
    "#Turn off front panel LED\n",
    "payload = \"{ 'led_val': '0', 'action_mode': 'apply', 'rc_service': 'start_ctrl_led' };')\"\n",
    "headers = {\n",
    "    'user-Agent': \"asusrouter-Android-DUTUtil-1.0.0.245\",\n",
    "    'cookie': 'asus_token={}'.format(token),\n",
    "}\n",
    "try:\n",
    "    r = requests.post(url='http://{}/applyapp.cgi'.format(asus_ip), data=payload, headers=headers)\n",
    "except:\n",
    "    print('Failed')\n",
    "print(r.text)"
   ]
  },
  {
   "cell_type": "code",
   "execution_count": null,
   "metadata": {},
   "outputs": [],
   "source": [
    "#Turn on front panel LED\n",
    "payload = \"{ 'led_val': '1', 'action_mode': 'apply', 'rc_service': 'start_ctrl_led' };')\"\n",
    "headers = {\n",
    "    'user-Agent': \"asusrouter-Android-DUTUtil-1.0.0.245\",\n",
    "    'cookie': 'asus_token={}'.format(token),\n",
    "}\n",
    "try:\n",
    "    r = requests.post(url='http://{}/applyapp.cgi'.format(asus_ip), data=payload, headers=headers)\n",
    "except:\n",
    "    print('Failed')\n",
    "print(r.text)"
   ]
  },
  {
   "cell_type": "code",
   "execution_count": 78,
   "metadata": {},
   "outputs": [
    {
     "name": "stdout",
     "output_type": "stream",
     "text": [
      "{ \"modify\": \"1\" }\n",
      "\n"
     ]
    }
   ],
   "source": [
    "#Turn off vpn (no password required)\n",
    "payload = '{ \"vpnc_proto\": \"disable\", \"vpnc_pptp_options_x\": \"\", \"vpn_clientx_eas\": \"\", \"vpn_client_unit\": \"\", \"vpnc_pppoe_username\": \"\", \"vpnc_pppoe_passwd\": \"\", \"vpnc_heartbeat_x\": \"\", \"action_mode\": \"apply\" };\")'\n",
    "headers = {\n",
    "    'user-Agent': \"asusrouter-Android-DUTUtil-1.0.0.245\",\n",
    "    'cookie': 'asus_token={}'.format(token),\n",
    "}\n",
    "try:\n",
    "    r = requests.post(url='http://{}/applyapp.cgi'.format(asus_ip), data=payload, headers=headers)\n",
    "except:\n",
    "    print('Failed')\n",
    "print(r.text)\n",
    "\n"
   ]
  },
  {
   "cell_type": "code",
   "execution_count": 76,
   "metadata": {},
   "outputs": [
    {
     "name": "stdout",
     "output_type": "stream",
     "text": [
      "{ \"modify\": \"1\" }\n",
      "\n"
     ]
    }
   ],
   "source": [
    "#Turn on UK VPN (VPN service password required)\n",
    "\n",
    "payload = '{ \"vpnc_proto\": \"openvpn\", \"vpnc_pptp_options_x\": \"auto\", \"vpn_clientx_eas\": \"5,\", \"vpn_client_unit\": \"5\", \"vpn_client5_username\": \"vpn_user\", \"vpn_client5_password\": \"vpn_pass\", \"action_mode\": \"apply\" };\")'\n",
    "headers = {\n",
    "    'user-Agent': \"asusrouter-Android-DUTUtil-1.0.0.245\",\n",
    "    'cookie': 'asus_token={}'.format(token),\n",
    "}\n",
    "try:\n",
    "    r = requests.post(url='http://{}/applyapp.cgi'.format(asus_ip), data=payload, headers=headers)\n",
    "except:\n",
    "    print('Failed')\n",
    "print(r.text)\n",
    "\n"
   ]
  },
  {
   "cell_type": "code",
   "execution_count": 79,
   "metadata": {},
   "outputs": [
    {
     "name": "stdout",
     "output_type": "stream",
     "text": [
      "{ \"modify\": \"0\", \"run_service\": \"restart_vpncall;\" }\n",
      "\n"
     ]
    }
   ],
   "source": [
    "#restart vpn service (required to apply any changes to the router/vpn client)\n",
    "\n",
    "payload = '{ \"action_mode\": \"apply\", \"rc_service\": \"restart_vpncall;\" }\")'\n",
    "headers = {\n",
    "    'user-Agent': \"asusrouter-Android-DUTUtil-1.0.0.245\",\n",
    "    'cookie': 'asus_token={}'.format(token),\n",
    "}\n",
    "try:\n",
    "    r = requests.post(url='http://{}/applyapp.cgi'.format(asus_ip), data=payload, headers=headers)\n",
    "except:\n",
    "    print('Failed')\n",
    "print(r.text)\n"
   ]
  },
  {
   "cell_type": "code",
   "execution_count": 72,
   "metadata": {},
   "outputs": [
    {
     "name": "stdout",
     "output_type": "stream",
     "text": [
      "Not connected\n"
     ]
    }
   ],
   "source": [
    "# Request the vpn client state. The return value is the currently enable client. If there is no return value, the vpn is not connected. \n",
    "\n",
    "payload = \"hook=nvram_get(vpn_clientx_eas);')\"\n",
    "headers = {\n",
    "    'user-Agent': \"asusrouter-Android-DUTUtil-1.0.0.245\",\n",
    "    'cookie': 'asus_token={}'.format(token),\n",
    "}\n",
    "try:\n",
    "    r = requests.post(url='http://{}/appGet.cgi'.format(asus_ip), data=payload, headers=headers)\n",
    "except:\n",
    "    print('Failed')\n",
    "response = r.json()\n",
    "\n",
    "if \"vpn_clientx_eas\" in response:\n",
    "    if response[\"vpn_clientx_eas\"] ==\"5,\":\n",
    "        print(\"Connected\")\n",
    "    else:\n",
    "        print(\"Not connected\")\n",
    "\n",
    "    "
   ]
  }
 ],
 "metadata": {
  "kernelspec": {
   "display_name": ".venv",
   "language": "python",
   "name": "python3"
  },
  "language_info": {
   "codemirror_mode": {
    "name": "ipython",
    "version": 3
   },
   "file_extension": ".py",
   "mimetype": "text/x-python",
   "name": "python",
   "nbconvert_exporter": "python",
   "pygments_lexer": "ipython3",
   "version": "3.9.0"
  }
 },
 "nbformat": 4,
 "nbformat_minor": 2
}
